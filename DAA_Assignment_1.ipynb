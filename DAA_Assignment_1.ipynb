{
  "nbformat": 4,
  "nbformat_minor": 0,
  "metadata": {
    "colab": {
      "provenance": [],
      "collapsed_sections": []
    },
    "kernelspec": {
      "name": "python3",
      "display_name": "Python 3"
    },
    "language_info": {
      "name": "python"
    }
  },
  "cells": [
    {
      "cell_type": "code",
      "source": [
        "# Prim's Algorithm in Python\n",
        "\n",
        "INF = 9999999\n",
        "# number of vertices in graph\n",
        "N = 7\n",
        "#creating graph by adjacency matrix method\n",
        "G = [[0, 1536, 1789, 2040, 3236, 1466, 2015],\n",
        "     [1536, 0, 829, 502, 1755, 959, 1117],\n",
        "     [1789, 829, 0, 709, 1653, 1876, 1944],\n",
        "     [2040, 502, 709, 0, 1232, 1461, 1481],\n",
        "     [3236, 1755, 1653, 1232, 0, 2625, 2361],\n",
        "     [1466, 959, 1876, 1461, 2625, 0, 593],\n",
        "     [2015, 1117, 1944, 1481, 2361, 593, 0]]\n",
        "\n",
        "selected_node = [0, 0, 0, 0, 0, 0, 0]\n",
        "\n",
        "no_edge = 0\n",
        "\n",
        "cities = ['Amritsar', 'Nagpur', 'Mumbai', 'Hyderabad', 'Kanyakumari', 'Patna', 'Kolkata']\n",
        "\n",
        "selected_node[0] = True\n",
        "\n",
        "\n",
        "# printing for edge and weight\n",
        "\n",
        "\n",
        "print(\"\\n\\nEdge : Weight\\n\")\n",
        "while (no_edge < N - 1):\n",
        "    \n",
        "    minimum = INF\n",
        "    a = 0\n",
        "    b = 0\n",
        "    for m in range(N):\n",
        "        if selected_node[m]:\n",
        "            for n in range(N):\n",
        "                if ((not selected_node[n]) and G[m][n]):  \n",
        "                    # not in selected and there is an edge\n",
        "                    if minimum > G[m][n]:\n",
        "                        minimum = G[m][n]\n",
        "                        a = m\n",
        "                        b = n\n",
        "    print(cities[a] + \"->\" + cities[b] + \":\" + str(G[a][b]))\n",
        "    selected_node[b] = True\n",
        "    no_edge += 1\n"
      ],
      "metadata": {
        "colab": {
          "base_uri": "https://localhost:8080/",
          "height": 0
        },
        "id": "WheMUNEqibPt",
        "outputId": "df4b9d3f-8347-4785-e104-487916b72e10"
      },
      "execution_count": 2,
      "outputs": [
        {
          "output_type": "stream",
          "name": "stdout",
          "text": [
            "\n",
            "\n",
            "Edge : Weight\n",
            "\n",
            "Amritsar->Patna:1466\n",
            "Patna->Kolkata:593\n",
            "Patna->Nagpur:959\n",
            "Nagpur->Hyderabad:502\n",
            "Hyderabad->Mumbai:709\n",
            "Hyderabad->Kanyakumari:1232\n"
          ]
        }
      ]
    },
    {
      "cell_type": "markdown",
      "source": [
        "Name : Aparna Jha\n",
        "\n",
        "Roll no: A 04\n",
        "\n",
        "DAA Assignment 1\n",
        "\n",
        "**Aim** : Google Map database and construction of Minimum Cost Spanning Tree From any selected City\n",
        "Input: Google Map actual data: Refer google map and find out distance between 7 cities. Construct distance matrix. Use distance matrix to construct Minimum Cost Spanning Tree using Prims Algorithm.\n",
        "Write three observations on the output.\n",
        "\n",
        "**Theory** : \n",
        "\n",
        "It starts with an empty spanning tree. The idea is to maintain two sets of vertices. The first set contains the vertices already included in the MST, the other set contains the vertices not yet included. At every step, it considers all the edges that connect the two sets and picks the minimum weight edge from these edges. After picking the edge, it moves the other endpoint of the edge to the set containing MST.\n",
        "\n",
        "The idea behind Prim’s algorithm is simple, a spanning tree means all vertices must be connected. So the two disjoint subsets (discussed above) of vertices must be connected to make a Spanning Tree. And they must be connected with the minimum weight edge to make it a Minimum Spanning Tree.\n",
        "\n",
        "**Follow the given steps to find MST using Prim’s Algorithm:**\n",
        "\n",
        "Create a set mstSet that keeps track of vertices already included in MST. \n",
        "\n",
        "Assign a key value to all vertices in the input graph. Initialize all key values as INFINITE. Assign the key value as 0 for the first vertex so that it is picked first. \n",
        "\n",
        "\n",
        "While mstSet doesn’t include all vertices \n",
        "\n",
        "\n",
        "Pick a vertex u which is not there in mstSet and has a minimum key value. \n",
        "\n",
        "\n",
        "Include u in the mstSet. \n",
        "\n",
        "\n",
        "Update the key value of all adjacent vertices of u. To update the key values, iterate through all adjacent vertices. For every adjacent vertex v, if the weight of edge u-v is less than the previous key value of v, update the key value as the weight of u-v.\n",
        "\n",
        "**Observation**\n",
        "1. The shortest distance according to the minimum cost spanning tree is from nagpur to hyderabad.\n",
        "\n",
        "\n",
        "2. The first two selected edges are Amritsar and Patna having the shortest distance according to the matrix.\n",
        "\n",
        "3. Hyderabad is close to Mumbai and Kanyakumari similarly Patna is close to Kolkata and nagpur as compared to others.\n",
        "\n"
      ],
      "metadata": {
        "id": "-SgP3EerQh7d"
      }
    }
  ]
}